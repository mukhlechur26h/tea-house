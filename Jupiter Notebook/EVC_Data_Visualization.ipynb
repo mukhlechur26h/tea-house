{
 "cells": [
  {
   "cell_type": "markdown",
   "id": "53c6233c",
   "metadata": {},
   "source": [
    "# EVC Data Visualization\n",
    "This notebook visualizes Electronic Volume Corrector data using time series plots."
   ]
  },
  {
   "cell_type": "code",
   "execution_count": null,
   "id": "58a09c1d",
   "metadata": {},
   "outputs": [],
   "source": [
    "import pandas as pd\n",
    "import matplotlib.pyplot as plt\n",
    "\n",
    "# Load CSV\n",
    "df = pd.read_csv(\"724-000005.csv\")\n",
    "\n",
    "# Convert 'Time' to datetime and set as index\n",
    "df['Time'] = pd.to_datetime(df['Time'], format='%Y-%m-%d,%H:%M:%S')\n",
    "df.set_index('Time', inplace=True)\n",
    "\n",
    "# Rename columns for clarity\n",
    "df.rename(columns={\n",
    "    'Vb [m3]': 'Uncorrected Volume',\n",
    "    'Vm [m3]': 'Corrected Volume',\n",
    "    'p.MP  [ bar]': 'Pressure (bar)',\n",
    "    'p.MP  [ psig]': 'Pressure (psig)',\n",
    "    'T.MP [{C]': 'Temperature (C)',\n",
    "    'difference':'Difference'\n",
    "}, inplace=True)\n",
    "\n",
    "df.head()\n"
   ]
  },
  {
   "cell_type": "code",
   "execution_count": null,
   "id": "9670d358",
   "metadata": {},
   "outputs": [],
   "source": [
    "plt.figure(figsize=(14, 5))\n",
    "plt.plot(df.index, df['Corrected Volume'], label='Corrected Volume')\n",
    "plt.plot(df.index, df['Uncorrected Volume'], label='Uncorrected Volume', linestyle='--')\n",
    "plt.title(\"Corrected vs Uncorrected Volume\")\n",
    "plt.xlabel(\"Time\")\n",
    "plt.ylabel(\"Volume (m³)\")\n",
    "plt.legend()\n",
    "plt.grid(True)\n",
    "plt.tight_layout()\n",
    "plt.show()\n"
   ]
  },
  {
   "cell_type": "code",
   "execution_count": null,
   "id": "ea81250b",
   "metadata": {},
   "outputs": [],
   "source": [
    "fig, ax1 = plt.subplots(figsize=(14, 5))\n",
    "\n",
    "ax1.set_title(\"Pressure and Temperature Trends\")\n",
    "ax1.set_xlabel(\"Time\")\n",
    "\n",
    "# Pressure\n",
    "ax1.plot(df.index, df['Pressure (bar)'], color='green', label='Pressure (bar)')\n",
    "#ax1.plot(df.index, df['Pressure (psig)'], color='green', label='Pressure (psig)')\n",
    "ax1.set_ylabel(\"Pressure (bar)\", color='green')\n",
    "#ax1.set_ylabel(\"Pressure (psig)\", color='green')\n",
    "ax1.tick_params(axis='y', labelcolor='green')\n",
    "\n",
    "# Temperature on secondary y-axis\n",
    "ax2 = ax1.twinx()\n",
    "ax2.plot(df.index, df['Temperature (C)'], color='red', label='Temperature (°C)')\n",
    "ax2.set_ylabel(\"Temperature (°C)\", color='red')\n",
    "ax2.tick_params(axis='y', labelcolor='red')\n",
    "\n",
    "fig.tight_layout()\n",
    "plt.grid(True)\n",
    "plt.show()\n"
   ]
  },
  {
   "cell_type": "code",
   "execution_count": null,
   "id": "0700829d",
   "metadata": {},
   "outputs": [],
   "source": [
    "df['Volume Difference'] = df['Corrected Volume'].diff()\n",
    "\n",
    "plt.figure(figsize=(14, 4))\n",
    "plt.bar(df.index, df['Volume Difference'], width=0.03, color='green')\n",
    "plt.title(\"Hourly Corrected Volume Difference\")\n",
    "plt.xlabel(\"Time\")\n",
    "plt.ylabel(\"Volume Difference (m³)\")\n",
    "plt.grid(True)\n",
    "plt.tight_layout()\n",
    "plt.show()\n"
   ]
  }
 ],
 "metadata": {
  "kernelspec": {
   "display_name": "Python 3",
   "language": "python",
   "name": "python3"
  },
  "language_info": {
   "codemirror_mode": {
    "name": "ipython",
    "version": 3
   },
   "file_extension": ".py",
   "mimetype": "text/x-python",
   "name": "python",
   "nbconvert_exporter": "python",
   "pygments_lexer": "ipython3",
   "version": "3.13.1"
  }
 },
 "nbformat": 4,
 "nbformat_minor": 5
}
